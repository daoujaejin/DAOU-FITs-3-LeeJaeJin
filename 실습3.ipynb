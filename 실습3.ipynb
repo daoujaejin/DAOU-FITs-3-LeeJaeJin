{
  "nbformat": 4,
  "nbformat_minor": 0,
  "metadata": {
    "colab": {
      "provenance": [],
      "authorship_tag": "ABX9TyOMBS8V1B0m5NxuNoV4VgeI",
      "include_colab_link": true
    },
    "kernelspec": {
      "name": "python3",
      "display_name": "Python 3"
    },
    "language_info": {
      "name": "python"
    }
  },
  "cells": [
    {
      "cell_type": "markdown",
      "metadata": {
        "id": "view-in-github",
        "colab_type": "text"
      },
      "source": [
        "<a href=\"https://colab.research.google.com/github/daoujaejin/DAOU-FITs-3-LeeJaeJin/blob/%EC%8B%A4%EC%8A%B5/%EC%8B%A4%EC%8A%B53.ipynb\" target=\"_parent\"><img src=\"https://colab.research.google.com/assets/colab-badge.svg\" alt=\"Open In Colab\"/></a>"
      ]
    },
    {
      "cell_type": "code",
      "source": [
        "import multiprocessing\n",
        "import time\n",
        "# 각 프로세스에서 실행될 함수\n",
        "def worker(number):\n",
        "   print(f\"Worker {number} 시작\")\n",
        "   time.sleep(2)\n",
        "   print(f\"Worker {number} 끝\")\n",
        "if __name__ == \"__main__\":\n",
        "   # 3개의 프로세스 생성\n",
        "   processes = []\n",
        "   for i in range(3):\n",
        "       process = multiprocessing.Process(target=worker, args=(i,))\n",
        "       processes.append(process)\n",
        "       process.start() # 프로세스 시작\n",
        "   for process in processes:\n",
        "       process.join() # 모든 프로세스가 끝날 때까지 대기"
      ],
      "metadata": {
        "colab": {
          "base_uri": "https://localhost:8080/"
        },
        "id": "PVsDJ2FumvEi",
        "outputId": "aeb927e1-f917-470b-9561-101a27bf8a53"
      },
      "execution_count": 1,
      "outputs": [
        {
          "output_type": "stream",
          "name": "stdout",
          "text": [
            "Worker 0 시작\n",
            "Worker 1 시작\n",
            "Worker 2 시작\n",
            "Worker 0 끝\n",
            "Worker 1 끝\n",
            "Worker 2 끝\n"
          ]
        }
      ]
    }
  ]
}