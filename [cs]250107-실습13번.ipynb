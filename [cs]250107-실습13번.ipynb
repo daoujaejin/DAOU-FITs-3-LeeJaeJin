{
  "nbformat": 4,
  "nbformat_minor": 0,
  "metadata": {
    "colab": {
      "provenance": [],
      "authorship_tag": "ABX9TyMAtkX/i4dXCqhTyidIrHBq"
    },
    "kernelspec": {
      "name": "python3",
      "display_name": "Python 3"
    },
    "language_info": {
      "name": "python"
    }
  },
  "cells": [
    {
      "cell_type": "code",
      "source": [
        "# 배열의 요소 추가/삽입\n",
        "arr = [1,2,3]\n",
        "arr.append(4)\n",
        "arr.insert(1, 10)\n",
        "arr_ones = [1] * 5\n",
        "arr, arr_ones"
      ],
      "metadata": {
        "colab": {
          "base_uri": "https://localhost:8080/"
        },
        "id": "pvE5VegVaPy7",
        "outputId": "169a7962-5acf-4be6-e746-c22f4be9a79a"
      },
      "execution_count": 5,
      "outputs": [
        {
          "output_type": "execute_result",
          "data": {
            "text/plain": [
              "([1, 10, 2, 3, 4], [1, 1, 1, 1, 1])"
            ]
          },
          "metadata": {},
          "execution_count": 5
        }
      ]
    },
    {
      "cell_type": "code",
      "source": [
        "# 배열 요소 수정\n",
        "arr = [1,2,3,4,5]\n",
        "arr[2] = 99\n",
        "arr"
      ],
      "metadata": {
        "colab": {
          "base_uri": "https://localhost:8080/"
        },
        "id": "JkmxQCNGajs9",
        "outputId": "810a13f4-8161-4fb6-d20b-2c3c6b15ffca"
      },
      "execution_count": 6,
      "outputs": [
        {
          "output_type": "execute_result",
          "data": {
            "text/plain": [
              "[1, 2, 99, 4, 5]"
            ]
          },
          "metadata": {},
          "execution_count": 6
        }
      ]
    },
    {
      "cell_type": "code",
      "source": [
        "# 배열 요소 삭제\n",
        "arr = [10, 20, 30, 40, 50]\n",
        "print(arr)\n",
        "arr.remove(30)\n",
        "print(arr)\n",
        "arr.pop()\n",
        "print(arr)\n",
        "arr.pop(0)\n",
        "print(arr)"
      ],
      "metadata": {
        "colab": {
          "base_uri": "https://localhost:8080/"
        },
        "id": "GA1shxHbar1n",
        "outputId": "f1bbd7fa-58a7-4d5b-8591-fbd5371c998e"
      },
      "execution_count": 9,
      "outputs": [
        {
          "output_type": "stream",
          "name": "stdout",
          "text": [
            "[10, 20, 30, 40, 50]\n",
            "[10, 20, 40, 50]\n",
            "[10, 20, 40]\n",
            "[20, 40]\n"
          ]
        }
      ]
    },
    {
      "cell_type": "code",
      "source": [
        "# 배열 합치기\n",
        "arr1 = [1,2,3]\n",
        "arr2 = [4,5,6]\n",
        "arr3 = arr1 + arr2\n",
        "arr1.extend(arr2)\n",
        "arr1, arr2, arr3"
      ],
      "metadata": {
        "colab": {
          "base_uri": "https://localhost:8080/"
        },
        "id": "DzSpKSUKbBUI",
        "outputId": "03d44cf9-9e0c-4b35-c286-8d3332332c39"
      },
      "execution_count": 11,
      "outputs": [
        {
          "output_type": "execute_result",
          "data": {
            "text/plain": [
              "([1, 2, 3, 4, 5, 6], [4, 5, 6], [1, 2, 3, 4, 5, 6])"
            ]
          },
          "metadata": {},
          "execution_count": 11
        }
      ]
    }
  ]
}