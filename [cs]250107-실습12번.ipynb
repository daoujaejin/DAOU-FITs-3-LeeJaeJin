{
  "nbformat": 4,
  "nbformat_minor": 0,
  "metadata": {
    "colab": {
      "provenance": [],
      "authorship_tag": "ABX9TyO152h7eno6xRpk70zP4c/J",
      "include_colab_link": true
    },
    "kernelspec": {
      "name": "python3",
      "display_name": "Python 3"
    },
    "language_info": {
      "name": "python"
    }
  },
  "cells": [
    {
      "cell_type": "markdown",
      "metadata": {
        "id": "view-in-github",
        "colab_type": "text"
      },
      "source": [
        "<a href=\"https://colab.research.google.com/github/daoujaejin/DAOU-FITs-3-LeeJaeJin/blob/%EC%8B%A4%EC%8A%B5/250107%EC%8B%A4%EC%8A%B5.ipynb\" target=\"_parent\"><img src=\"https://colab.research.google.com/assets/colab-badge.svg\" alt=\"Open In Colab\"/></a>"
      ]
    },
    {
      "cell_type": "code",
      "source": [
        "# 정수로 이루어진 배열 초기화\n",
        "arr = [1,2,3,4,5]\n",
        "\n",
        "# 특정 값으로 초기화\n",
        "arr_zeros = [0] * 5 # [0,0,0,0,0]\n",
        "arr_ones = [1] * 5  # [1,1,1,1,1]\n",
        "\n",
        "arr, arr_zeros, arr_ones"
      ],
      "metadata": {
        "colab": {
          "base_uri": "https://localhost:8080/"
        },
        "id": "q7oFyqxgYkhQ",
        "outputId": "32cbf4cc-b95d-41e5-9136-2d7e19c1271e"
      },
      "execution_count": 2,
      "outputs": [
        {
          "output_type": "execute_result",
          "data": {
            "text/plain": [
              "([1, 2, 3, 4, 5], [0, 0, 0, 0, 0], [1, 1, 1, 1, 1])"
            ]
          },
          "metadata": {},
          "execution_count": 2
        }
      ]
    },
    {
      "cell_type": "code",
      "source": [
        "# 배열 요소 접근\n",
        "arr = [10, 20, 30, 40, 50]\n",
        "print(arr[0])\n",
        "print(arr[2])\n",
        "print(arr[-1])"
      ],
      "metadata": {
        "colab": {
          "base_uri": "https://localhost:8080/"
        },
        "id": "wbBhENDqZA4-",
        "outputId": "85308a5d-c772-4396-8517-b553a00cce24"
      },
      "execution_count": 3,
      "outputs": [
        {
          "output_type": "stream",
          "name": "stdout",
          "text": [
            "10\n",
            "30\n",
            "50\n"
          ]
        }
      ]
    },
    {
      "cell_type": "code",
      "source": [
        "# 배열의 길이(크기) 구하기\n",
        "arr = [1,2,3,4,5]\n",
        "print(len(arr))"
      ],
      "metadata": {
        "colab": {
          "base_uri": "https://localhost:8080/"
        },
        "id": "b9iGO9VfZM8_",
        "outputId": "f77f0b45-bc16-45b0-b671-29d494134542"
      },
      "execution_count": 4,
      "outputs": [
        {
          "output_type": "stream",
          "name": "stdout",
          "text": [
            "5\n"
          ]
        }
      ]
    }
  ]
}
