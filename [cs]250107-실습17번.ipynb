{
  "nbformat": 4,
  "nbformat_minor": 0,
  "metadata": {
    "colab": {
      "provenance": [],
      "authorship_tag": "ABX9TyMwTndP7/JOmTSUdT3RpVYv"
    },
    "kernelspec": {
      "name": "python3",
      "display_name": "Python 3"
    },
    "language_info": {
      "name": "python"
    }
  },
  "cells": [
    {
      "cell_type": "code",
      "source": [
        "# 파이썬을 이용한 이중 연결 리스트 구현 실습\n",
        "class DNode:\n",
        "    def __init__(self, data):\n",
        "        self.data = data  # 노드의 데이터\n",
        "        self.next = None  # 다음 노드를 가리키는 참조\n",
        "        self.prev = None  # 이전 노드를 가리키는 참조\n",
        "\n",
        "class DoublyLinkedList:\n",
        "    def __init__(self):\n",
        "        self.head = None  # 리스트의 처음을 가리키는 head\n",
        "        self.tail = None  # 리스트의 끝을 가리키는 tail\n",
        "\n",
        "    def append(self, data):\n",
        "        new_node = DNode(data)\n",
        "        if not self.head:  # 리스트가 비어있다면 새로운 노드가 head와 tail\n",
        "            self.head = self.tail = new_node\n",
        "            return\n",
        "        self.tail.next = new_node  # 기존의 tail의 다음 노드는 새 노드\n",
        "        new_node.prev = self.tail  # 새 노드의 이전 노드는 기존의 tail\n",
        "        self.tail = new_node  # 새 노드를 tail로 갱신\n",
        "\n",
        "\n",
        "    def prepend(self, data):\n",
        "        new_node = DNode(data)\n",
        "        if not self.head:  # 리스트가 비어있다면 새로운 노드가 head와 tail\n",
        "            self.head = self.tail = new_node\n",
        "            return\n",
        "        new_node.next = self.head  # 새 노드의 다음 노드는 기존의 head\n",
        "        self.head.prev = new_node  # 기존 head의 이전 노드는 새 노드\n",
        "        self.head = new_node  # 새 노드를 head로 갱신\n",
        "\n",
        "    def delete(self, data):\n",
        "        temp = self.head\n",
        "        while temp:  # 리스트에서 데이터를 찾을 때까지 순차 탐색\n",
        "            if temp.data == data:\n",
        "                if temp.prev:  # 삭제하려는 노드가 중간에 있을 경우\n",
        "                    temp.prev.next = temp.next\n",
        "                if temp.next:  # 삭제하려는 노드가 중간에 있을 경우\n",
        "                    temp.next.prev = temp.prev\n",
        "                if temp == self.head:  # 삭제하려는 노드가 head인 경우\n",
        "                    self.head = temp.next\n",
        "                if temp == self.tail:  # 삭제하려는 노드가 tail인 경우\n",
        "                    self.tail = temp.prev\n",
        "                temp = None\n",
        "                return\n",
        "            temp = temp.next\n",
        "    def display(self):\n",
        "        temp = self.head\n",
        "        while temp:\n",
        "            print(temp.data, end=\" <-> \")\n",
        "            temp = temp.next\n",
        "        print(\"None\")\n",
        "\n",
        "# 사용 예시\n",
        "dll = DoublyLinkedList()\n",
        "dll.append(1)\n",
        "dll.append(2)\n",
        "dll.append(3)\n",
        "dll.prepend(0)\n",
        "dll.display()  # 0 <-> 1 <-> 2 <-> 3 <-> None\n",
        "dll.delete(2)\n",
        "dll.display()  # 0 <-> 1 <-> 3 <-> None\n"
      ],
      "metadata": {
        "colab": {
          "base_uri": "https://localhost:8080/"
        },
        "id": "d99Cviavg5_V",
        "outputId": "f43b6b9f-aad8-4215-e1ea-f4bca3f91ab9"
      },
      "execution_count": 16,
      "outputs": [
        {
          "output_type": "stream",
          "name": "stdout",
          "text": [
            "0 <-> 1 <-> 2 <-> 3 <-> None\n",
            "0 <-> 1 <-> 3 <-> None\n"
          ]
        }
      ]
    }
  ]
}